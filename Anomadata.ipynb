{
  "nbformat": 4,
  "nbformat_minor": 0,
  "metadata": {
    "colab": {
      "provenance": []
    },
    "kernelspec": {
      "name": "python3",
      "display_name": "Python 3"
    },
    "language_info": {
      "name": "python"
    }
  },
  "cells": [
    {
      "cell_type": "code",
      "execution_count": 1,
      "metadata": {
        "id": "aJ4HIPi74rIT"
      },
      "outputs": [],
      "source": [
        "\n",
        "# Importing necessary libraries\n",
        "import pandas as pd\n",
        "from sklearn.model_selection import train_test_split\n",
        "from sklearn.ensemble import RandomForestClassifier\n",
        "from sklearn.metrics import accuracy_score, classification_report\n",
        "from sklearn.model_selection import GridSearchCV"
      ]
    },
    {
      "cell_type": "code",
      "source": [
        "# Step 1: Loading the dataset\n",
        "data = pd.read_csv(\"/content/AnomaData.csv\")"
      ],
      "metadata": {
        "id": "XFBAct-n40cH"
      },
      "execution_count": 2,
      "outputs": []
    },
    {
      "cell_type": "code",
      "source": [
        "# Step 2: Exploratory Data Analysis (EDA)\n",
        "# Check data quality\n",
        "print(data.info())\n",
        "print(data.describe())"
      ],
      "metadata": {
        "colab": {
          "base_uri": "https://localhost:8080/"
        },
        "id": "ArdCifYk5NKK",
        "outputId": "05cb9767-e1fe-4a3f-eb02-90f897240470"
      },
      "execution_count": 3,
      "outputs": [
        {
          "output_type": "stream",
          "name": "stdout",
          "text": [
            "<class 'pandas.core.frame.DataFrame'>\n",
            "RangeIndex: 18398 entries, 0 to 18397\n",
            "Data columns (total 62 columns):\n",
            " #   Column  Non-Null Count  Dtype  \n",
            "---  ------  --------------  -----  \n",
            " 0   time    18398 non-null  object \n",
            " 1   y       18398 non-null  int64  \n",
            " 2   x1      18398 non-null  float64\n",
            " 3   x2      18398 non-null  float64\n",
            " 4   x3      18398 non-null  float64\n",
            " 5   x4      18398 non-null  float64\n",
            " 6   x5      18398 non-null  float64\n",
            " 7   x6      18398 non-null  float64\n",
            " 8   x7      18398 non-null  float64\n",
            " 9   x8      18398 non-null  float64\n",
            " 10  x9      18398 non-null  float64\n",
            " 11  x10     18398 non-null  float64\n",
            " 12  x11     18398 non-null  float64\n",
            " 13  x12     18398 non-null  float64\n",
            " 14  x13     18398 non-null  float64\n",
            " 15  x14     18398 non-null  float64\n",
            " 16  x15     18398 non-null  float64\n",
            " 17  x16     18398 non-null  float64\n",
            " 18  x17     18398 non-null  float64\n",
            " 19  x18     18398 non-null  float64\n",
            " 20  x19     18398 non-null  float64\n",
            " 21  x20     18398 non-null  float64\n",
            " 22  x21     18398 non-null  float64\n",
            " 23  x22     18398 non-null  float64\n",
            " 24  x23     18398 non-null  float64\n",
            " 25  x24     18398 non-null  float64\n",
            " 26  x25     18398 non-null  float64\n",
            " 27  x26     18398 non-null  float64\n",
            " 28  x27     18398 non-null  float64\n",
            " 29  x28     18398 non-null  int64  \n",
            " 30  x29     18398 non-null  float64\n",
            " 31  x30     18398 non-null  float64\n",
            " 32  x31     18398 non-null  float64\n",
            " 33  x32     18398 non-null  float64\n",
            " 34  x33     18398 non-null  float64\n",
            " 35  x34     18398 non-null  float64\n",
            " 36  x35     18398 non-null  float64\n",
            " 37  x36     18398 non-null  float64\n",
            " 38  x37     18398 non-null  float64\n",
            " 39  x38     18398 non-null  float64\n",
            " 40  x39     18398 non-null  float64\n",
            " 41  x40     18398 non-null  float64\n",
            " 42  x41     18398 non-null  float64\n",
            " 43  x42     18398 non-null  float64\n",
            " 44  x43     18398 non-null  float64\n",
            " 45  x44     18398 non-null  float64\n",
            " 46  x45     18398 non-null  float64\n",
            " 47  x46     18398 non-null  float64\n",
            " 48  x47     18398 non-null  float64\n",
            " 49  x48     18398 non-null  float64\n",
            " 50  x49     18398 non-null  float64\n",
            " 51  x50     18398 non-null  float64\n",
            " 52  x51     18398 non-null  float64\n",
            " 53  x52     18398 non-null  float64\n",
            " 54  x54     18398 non-null  float64\n",
            " 55  x55     18398 non-null  float64\n",
            " 56  x56     18398 non-null  float64\n",
            " 57  x57     18398 non-null  float64\n",
            " 58  x58     18398 non-null  float64\n",
            " 59  x59     18398 non-null  float64\n",
            " 60  x60     18398 non-null  float64\n",
            " 61  y.1     18398 non-null  int64  \n",
            "dtypes: float64(58), int64(3), object(1)\n",
            "memory usage: 8.7+ MB\n",
            "None\n",
            "                  y            x1            x2            x3            x4  \\\n",
            "count  18398.000000  18398.000000  18398.000000  18398.000000  18398.000000   \n",
            "mean       0.006740      0.011824      0.157986      0.569300     -9.958345   \n",
            "std        0.081822      0.742875      4.939762      5.937178    131.033712   \n",
            "min        0.000000     -3.787279    -17.316550    -18.198509   -322.781610   \n",
            "25%        0.000000     -0.405681     -2.158235     -3.537054   -111.378372   \n",
            "50%        0.000000      0.128245     -0.075505     -0.190683    -14.881585   \n",
            "75%        0.000000      0.421222      2.319297      3.421223     92.199134   \n",
            "max        1.000000      3.054156     16.742105     15.900116    334.694098   \n",
            "\n",
            "                 x5            x6            x7            x8            x9  \\\n",
            "count  18398.000000  18398.000000  18398.000000  18398.000000  18398.000000   \n",
            "mean       0.006518      2.387533      0.001647     -0.004125     -0.003056   \n",
            "std        0.634054     37.104012      0.108870      0.075460      0.156047   \n",
            "min       -1.623988   -279.408440     -0.429273     -0.451141     -0.120087   \n",
            "25%       -0.446787    -24.345268     -0.058520     -0.051043     -0.059966   \n",
            "50%       -0.120745     10.528435     -0.009338     -0.000993     -0.030057   \n",
            "75%        0.325152     32.172974      0.060515      0.038986      0.001990   \n",
            "max        4.239385     96.060768      1.705590      0.788826      4.060033   \n",
            "\n",
            "       ...           x51           x52           x54           x55  \\\n",
            "count  ...  18398.000000  18398.000000  18398.000000  18398.000000   \n",
            "mean   ...     -3.357339      0.380519      0.173708      2.379154   \n",
            "std    ...    348.256716      6.211598      3.029516     67.940694   \n",
            "min    ...  -3652.989000   -187.943440     -8.210370   -230.574030   \n",
            "25%    ...     29.984624     -3.672684      0.487780    -40.050046   \n",
            "50%    ...     29.984624      0.294846      0.702299     17.471317   \n",
            "75%    ...     29.984624      5.109543      2.675751     44.093387   \n",
            "max    ...     40.152348     14.180588      6.637265    287.252017   \n",
            "\n",
            "                x56           x57           x58           x59           x60  \\\n",
            "count  18398.000000  18398.000000  18398.000000  18398.000000  18398.000000   \n",
            "mean       9.234953      0.233493     -0.001861     -0.061522      0.001258   \n",
            "std       81.274103      2.326838      0.048732     10.394085      0.004721   \n",
            "min     -269.039500    -12.640370     -0.149790   -100.810500     -0.012229   \n",
            "25%      -45.519149     -1.598804      0.000470      0.295023     -0.001805   \n",
            "50%        1.438806      0.085826      0.012888      0.734591      0.000710   \n",
            "75%       63.209681      2.222118      0.020991      1.266506      0.004087   \n",
            "max      252.147455      6.922008      0.067249      6.985460      0.020510   \n",
            "\n",
            "                y.1  \n",
            "count  18398.000000  \n",
            "mean       0.001033  \n",
            "std        0.032120  \n",
            "min        0.000000  \n",
            "25%        0.000000  \n",
            "50%        0.000000  \n",
            "75%        0.000000  \n",
            "max        1.000000  \n",
            "\n",
            "[8 rows x 61 columns]\n"
          ]
        }
      ]
    },
    {
      "cell_type": "code",
      "source": [
        "# Treat missing values if any\n",
        "data.dropna(inplace=True)\n"
      ],
      "metadata": {
        "id": "1GI8ffzz5R70"
      },
      "execution_count": 4,
      "outputs": []
    },
    {
      "cell_type": "code",
      "source": [
        "# Step 3: Correcting date datatype\n",
        "data['time'] = pd.to_datetime(data['time'])"
      ],
      "metadata": {
        "colab": {
          "base_uri": "https://localhost:8080/"
        },
        "id": "LEtXzcfl5bHO",
        "outputId": "2af3820d-e747-4c4c-dfdc-9832681bea14"
      },
      "execution_count": 5,
      "outputs": [
        {
          "output_type": "stream",
          "name": "stderr",
          "text": [
            "<ipython-input-5-3e486a13a1c2>:2: UserWarning: Could not infer format, so each element will be parsed individually, falling back to `dateutil`. To ensure parsing is consistent and as-expected, please specify a format.\n",
            "  data['time'] = pd.to_datetime(data['time'])\n"
          ]
        }
      ]
    },
    {
      "cell_type": "code",
      "source": [
        "# Step 4: Feature Engineering and Selection\n",
        "# Assuming no specific feature engineering required"
      ],
      "metadata": {
        "id": "rfn8mPyJ5dhO"
      },
      "execution_count": 6,
      "outputs": []
    },
    {
      "cell_type": "code",
      "source": [
        "# Step 5: Train/Test Split\n",
        "X = data.drop(columns=['y', 'y.1'])\n",
        "y = data['y']\n",
        "X_train, X_test, y_train, y_test = train_test_split(X, y, test_size=0.2, random_state=42)\n"
      ],
      "metadata": {
        "id": "3Y-kgOzw5gYU"
      },
      "execution_count": 7,
      "outputs": []
    },
    {
      "cell_type": "code",
      "source": [
        "# Convert datetime to numerical representation\n",
        "X_train['time'] = pd.to_datetime(X_train['time']).astype(int) // 10**9\n",
        "X_test['time'] = pd.to_datetime(X_test['time']).astype(int) // 10**9\n"
      ],
      "metadata": {
        "id": "DxOEBtVH5jcr"
      },
      "execution_count": 8,
      "outputs": []
    },
    {
      "cell_type": "code",
      "source": [
        "# Step 6: Model Selection\n",
        "model = RandomForestClassifier()"
      ],
      "metadata": {
        "id": "ql-SAJRP5p8z"
      },
      "execution_count": 9,
      "outputs": []
    },
    {
      "cell_type": "code",
      "source": [
        "# Step 7: Model Training\n",
        "model.fit(X_train, y_train)"
      ],
      "metadata": {
        "colab": {
          "base_uri": "https://localhost:8080/",
          "height": 74
        },
        "id": "RCdtcZiE5tDh",
        "outputId": "6ea719a8-2e93-4504-ae9a-47d8b88f58be"
      },
      "execution_count": 10,
      "outputs": [
        {
          "output_type": "execute_result",
          "data": {
            "text/plain": [
              "RandomForestClassifier()"
            ],
            "text/html": [
              "<style>#sk-container-id-1 {color: black;background-color: white;}#sk-container-id-1 pre{padding: 0;}#sk-container-id-1 div.sk-toggleable {background-color: white;}#sk-container-id-1 label.sk-toggleable__label {cursor: pointer;display: block;width: 100%;margin-bottom: 0;padding: 0.3em;box-sizing: border-box;text-align: center;}#sk-container-id-1 label.sk-toggleable__label-arrow:before {content: \"▸\";float: left;margin-right: 0.25em;color: #696969;}#sk-container-id-1 label.sk-toggleable__label-arrow:hover:before {color: black;}#sk-container-id-1 div.sk-estimator:hover label.sk-toggleable__label-arrow:before {color: black;}#sk-container-id-1 div.sk-toggleable__content {max-height: 0;max-width: 0;overflow: hidden;text-align: left;background-color: #f0f8ff;}#sk-container-id-1 div.sk-toggleable__content pre {margin: 0.2em;color: black;border-radius: 0.25em;background-color: #f0f8ff;}#sk-container-id-1 input.sk-toggleable__control:checked~div.sk-toggleable__content {max-height: 200px;max-width: 100%;overflow: auto;}#sk-container-id-1 input.sk-toggleable__control:checked~label.sk-toggleable__label-arrow:before {content: \"▾\";}#sk-container-id-1 div.sk-estimator input.sk-toggleable__control:checked~label.sk-toggleable__label {background-color: #d4ebff;}#sk-container-id-1 div.sk-label input.sk-toggleable__control:checked~label.sk-toggleable__label {background-color: #d4ebff;}#sk-container-id-1 input.sk-hidden--visually {border: 0;clip: rect(1px 1px 1px 1px);clip: rect(1px, 1px, 1px, 1px);height: 1px;margin: -1px;overflow: hidden;padding: 0;position: absolute;width: 1px;}#sk-container-id-1 div.sk-estimator {font-family: monospace;background-color: #f0f8ff;border: 1px dotted black;border-radius: 0.25em;box-sizing: border-box;margin-bottom: 0.5em;}#sk-container-id-1 div.sk-estimator:hover {background-color: #d4ebff;}#sk-container-id-1 div.sk-parallel-item::after {content: \"\";width: 100%;border-bottom: 1px solid gray;flex-grow: 1;}#sk-container-id-1 div.sk-label:hover label.sk-toggleable__label {background-color: #d4ebff;}#sk-container-id-1 div.sk-serial::before {content: \"\";position: absolute;border-left: 1px solid gray;box-sizing: border-box;top: 0;bottom: 0;left: 50%;z-index: 0;}#sk-container-id-1 div.sk-serial {display: flex;flex-direction: column;align-items: center;background-color: white;padding-right: 0.2em;padding-left: 0.2em;position: relative;}#sk-container-id-1 div.sk-item {position: relative;z-index: 1;}#sk-container-id-1 div.sk-parallel {display: flex;align-items: stretch;justify-content: center;background-color: white;position: relative;}#sk-container-id-1 div.sk-item::before, #sk-container-id-1 div.sk-parallel-item::before {content: \"\";position: absolute;border-left: 1px solid gray;box-sizing: border-box;top: 0;bottom: 0;left: 50%;z-index: -1;}#sk-container-id-1 div.sk-parallel-item {display: flex;flex-direction: column;z-index: 1;position: relative;background-color: white;}#sk-container-id-1 div.sk-parallel-item:first-child::after {align-self: flex-end;width: 50%;}#sk-container-id-1 div.sk-parallel-item:last-child::after {align-self: flex-start;width: 50%;}#sk-container-id-1 div.sk-parallel-item:only-child::after {width: 0;}#sk-container-id-1 div.sk-dashed-wrapped {border: 1px dashed gray;margin: 0 0.4em 0.5em 0.4em;box-sizing: border-box;padding-bottom: 0.4em;background-color: white;}#sk-container-id-1 div.sk-label label {font-family: monospace;font-weight: bold;display: inline-block;line-height: 1.2em;}#sk-container-id-1 div.sk-label-container {text-align: center;}#sk-container-id-1 div.sk-container {/* jupyter's `normalize.less` sets `[hidden] { display: none; }` but bootstrap.min.css set `[hidden] { display: none !important; }` so we also need the `!important` here to be able to override the default hidden behavior on the sphinx rendered scikit-learn.org. See: https://github.com/scikit-learn/scikit-learn/issues/21755 */display: inline-block !important;position: relative;}#sk-container-id-1 div.sk-text-repr-fallback {display: none;}</style><div id=\"sk-container-id-1\" class=\"sk-top-container\"><div class=\"sk-text-repr-fallback\"><pre>RandomForestClassifier()</pre><b>In a Jupyter environment, please rerun this cell to show the HTML representation or trust the notebook. <br />On GitHub, the HTML representation is unable to render, please try loading this page with nbviewer.org.</b></div><div class=\"sk-container\" hidden><div class=\"sk-item\"><div class=\"sk-estimator sk-toggleable\"><input class=\"sk-toggleable__control sk-hidden--visually\" id=\"sk-estimator-id-1\" type=\"checkbox\" checked><label for=\"sk-estimator-id-1\" class=\"sk-toggleable__label sk-toggleable__label-arrow\">RandomForestClassifier</label><div class=\"sk-toggleable__content\"><pre>RandomForestClassifier()</pre></div></div></div></div></div>"
            ]
          },
          "metadata": {},
          "execution_count": 10
        }
      ]
    },
    {
      "cell_type": "code",
      "source": [
        "# Step 8: Model Evaluation\n",
        "y_pred = model.predict(X_test)\n",
        "accuracy = accuracy_score(y_test, y_pred)\n",
        "print(\"Accuracy:\", accuracy)\n",
        "print(classification_report(y_test, y_pred))"
      ],
      "metadata": {
        "colab": {
          "base_uri": "https://localhost:8080/"
        },
        "id": "MdSYib2f5vF6",
        "outputId": "1a400a57-e661-42cf-c4a9-f8b2da762ee4"
      },
      "execution_count": 11,
      "outputs": [
        {
          "output_type": "stream",
          "name": "stdout",
          "text": [
            "Accuracy: 0.9972826086956522\n",
            "              precision    recall  f1-score   support\n",
            "\n",
            "           0       1.00      1.00      1.00      3658\n",
            "           1       0.93      0.59      0.72        22\n",
            "\n",
            "    accuracy                           1.00      3680\n",
            "   macro avg       0.96      0.80      0.86      3680\n",
            "weighted avg       1.00      1.00      1.00      3680\n",
            "\n"
          ]
        }
      ]
    },
    {
      "cell_type": "code",
      "source": [
        "\n",
        "# Step 9: Hyperparameter Tuning/Model Improvement\n",
        "param_grid = {'n_estimators': [100, 200, 300],\n",
        "              'max_depth': [None, 10, 20],\n",
        "              'min_samples_split': [2, 5, 10],\n",
        "              'min_samples_leaf': [1, 2, 4]}\n",
        "grid_search = GridSearchCV(estimator=model, param_grid=param_grid, cv=3)\n",
        "grid_search.fit(X_train, y_train)\n",
        "best_params = grid_search.best_params_\n",
        "print(\"Best parameters:\", best_params)"
      ],
      "metadata": {
        "colab": {
          "base_uri": "https://localhost:8080/"
        },
        "id": "7-eqqB2n55I0",
        "outputId": "ee8c9f2d-af0b-4875-936d-c32f471a899b"
      },
      "execution_count": 12,
      "outputs": [
        {
          "output_type": "stream",
          "name": "stdout",
          "text": [
            "Best parameters: {'max_depth': 20, 'min_samples_leaf': 1, 'min_samples_split': 5, 'n_estimators': 300}\n"
          ]
        }
      ]
    },
    {
      "cell_type": "code",
      "source": [],
      "metadata": {
        "id": "HEz3ILQo59Ov"
      },
      "execution_count": null,
      "outputs": []
    }
  ]
}